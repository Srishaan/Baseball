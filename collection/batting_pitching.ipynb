{
 "cells": [
  {
   "cell_type": "code",
   "execution_count": null,
   "id": "d9fa3124-ea01-4fdf-b362-e92a5d973ce7",
   "metadata": {},
   "outputs": [],
   "source": [
    "import pybaseball\n",
    "from pybaseball import batting_stats, pitching_stats\n",
    "\n",
    "# Get aggregate batting stats for all players from 1965 to present day (MLB Draft began in 1965)\n",
    "batting = batting_stats(start_season=1965, end_season=2023, qual=0, split_seasons=False)\n",
    "# Get aggregate pitching stats for all players from 1965 to present day (MLB Draft began in 1965)\n",
    "pitching = pitching_stats(start_season=1965, end_season=2023, qual=0, split_seasons=False)\n",
    "# Create the csv files for the batting and pitching data\n",
    "batting.to_csv('batting_stats.csv', index=False)\n",
    "pitching.to_csv('pitching_stats.csv', index=False)"
   ]
  },
  {
   "cell_type": "code",
   "execution_count": null,
   "id": "99341dcc-6d14-49dc-becb-f46249a18f8a",
   "metadata": {},
   "outputs": [],
   "source": []
  }
 ],
 "metadata": {
  "kernelspec": {
   "display_name": "Python 3 (ipykernel)",
   "language": "python",
   "name": "python3"
  },
  "language_info": {
   "codemirror_mode": {
    "name": "ipython",
    "version": 3
   },
   "file_extension": ".py",
   "mimetype": "text/x-python",
   "name": "python",
   "nbconvert_exporter": "python",
   "pygments_lexer": "ipython3",
   "version": "3.12.7"
  }
 },
 "nbformat": 4,
 "nbformat_minor": 5
}
